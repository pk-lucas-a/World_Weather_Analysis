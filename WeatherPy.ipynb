{
  "nbformat": 4,
  "nbformat_minor": 0,
  "metadata": {
    "colab": {
      "name": "WeatherPy.ipynb",
      "provenance": []
    },
    "kernelspec": {
      "name": "python3",
      "display_name": "Python 3"
    },
    "language_info": {
      "name": "python"
    }
  },
  "cells": [
    {
      "cell_type": "code",
      "metadata": {
        "id": "hGVY8EECKSN8"
      },
      "source": [
        "# Import the dependencies.\n",
        "import pandas as pd\n",
        "import matplotlib.pyplot as plt\n",
        "import numpy as np\n",
        "from citipy import citipy\n",
        "import os"
      ],
      "execution_count": 6,
      "outputs": []
    },
    {
      "cell_type": "code",
      "metadata": {
        "colab": {
          "base_uri": "https://localhost:8080/"
        },
        "id": "vMwN4lLuKhtq",
        "outputId": "c780d68a-e635-49cc-ae39-1ed4f052657e"
      },
      "source": [
        "# Create a set of random latitude and longitude combinations.\n",
        "lats = np.random.uniform(low=-90.000, high=90.000, size=1500)\n",
        "lngs = np.random.uniform(low=-180.000, high=180.000, size=1500)\n",
        "lat_lngs = zip(lats, lngs)\n",
        "lat_lngs"
      ],
      "execution_count": 2,
      "outputs": [
        {
          "output_type": "execute_result",
          "data": {
            "text/plain": [
              "<zip at 0x1da082a20c8>"
            ]
          },
          "metadata": {},
          "execution_count": 2
        }
      ]
    },
    {
      "cell_type": "code",
      "metadata": {
        "id": "SY23fM4pKhrB"
      },
      "source": [
        "# Add the latitudes and longitudes to a list.\n",
        "coordinates = list(lat_lngs)"
      ],
      "execution_count": 3,
      "outputs": []
    },
    {
      "cell_type": "code",
      "metadata": {
        "colab": {
          "base_uri": "https://localhost:8080/"
        },
        "id": "HIpjeBr7KhoS",
        "outputId": "3ff5423d-fcf6-4783-f230-34bc5c813c7e"
      },
      "source": [
        "# Create a list for holding the cities.\n",
        "cities = []\n",
        "# Identify the nearest city for each latitude and longitude combination.\n",
        "for coordinate in coordinates:\n",
        "    city = citipy.nearest_city(coordinate[0], coordinate[1]).city_name\n",
        "\n",
        "    # If the city is unique, then we will add it to the cities list.\n",
        "    if city not in cities:\n",
        "        cities.append(city)\n",
        "# Print the city count to confirm sufficient count.\n",
        "len(cities)"
      ],
      "execution_count": 4,
      "outputs": [
        {
          "output_type": "execute_result",
          "data": {
            "text/plain": [
              "572"
            ]
          },
          "metadata": {},
          "execution_count": 4
        }
      ]
    },
    {
      "cell_type": "code",
      "metadata": {
        "id": "dDO2NnuTRW1A"
      },
      "source": [
        ""
      ],
      "execution_count": 7,
      "outputs": []
    },
    {
      "cell_type": "code",
      "metadata": {
        "id": "A7oDXs7QRrEK"
      },
      "source": [
        ""
      ],
      "execution_count": null,
      "outputs": []
    },
    {
      "cell_type": "markdown",
      "metadata": {
        "id": "GLZpMSKLOuxs"
      },
      "source": [
        ""
      ]
    }
  ]
}